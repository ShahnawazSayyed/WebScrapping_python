{
 "cells": [
  {
   "cell_type": "markdown",
   "metadata": {},
   "source": [
    "# Web Scrapping - Weather Data"
   ]
  },
  {
   "cell_type": "markdown",
   "metadata": {},
   "source": [
    "Scrap the Weather data for past 24 hours for pune from https://www.timeanddate.com/weather/india/pune/historic\n",
    "\n",
    "Write the data to a data.csv file"
   ]
  },
  {
   "cell_type": "code",
   "execution_count": 10,
   "metadata": {},
   "outputs": [
    {
     "data": {
      "text/plain": [
       "(7, 7)"
      ]
     },
     "execution_count": 10,
     "metadata": {},
     "output_type": "execute_result"
    }
   ],
   "source": [
    "# -*- coding: utf-8 -*-\n",
    "\n",
    "import re\n",
    "import csv\n",
    "import requests\n",
    "from bs4 import BeautifulSoup\n",
    "\n",
    "# Code to scrap the weather data\n",
    "from urllib.request import urlopen\n",
    "import pandas as pd\n",
    "\n",
    "# Code to scrap the weather data\n",
    "url = 'https://www.timeanddate.com/weather/india/pune/historic'\n",
    "html = urlopen(url)\n",
    "soup = BeautifulSoup(html, 'html.parser')\n",
    "table = soup.find('table', attrs={'id': 'wt-his'})\n",
    "\n",
    "tablehr = table.find('thead').find_all('tr')\n",
    "tablebr = table.find('tbody').find_all('tr')\n",
    "\n",
    "data = []\n",
    "tableheaders = []\n",
    "\n",
    "wind_dir= []\n",
    "all_td = table.find_all('td')\n",
    "for row in all_td:\n",
    "    for cols in row.find_all('span'):\n",
    "        wind_dir.append(cols.get('title'))\n",
    "        \n",
    "df_wd = pd.DataFrame({'Wind':wind_dir})\n",
    "\n",
    "for col in tablehr[1].find_all('th'):\n",
    "    tableheaders.append(col.text.strip())\n",
    "    \n",
    "\n",
    "for row in tablebr:\n",
    "    tabledata = []\n",
    "    for cols in row.find_all(['td', 'th']):\n",
    "        tabledata.append(cols.text.strip())\n",
    "    data.append(tabledata)\n",
    "\n",
    "\n",
    "\n",
    "WeatherData = pd.DataFrame(data, columns = ['Time', 'Fake', 'Temp', 'Weather', 'Wind', 'Direction', 'Humidity', 'Barometer', 'Visibility'])\n",
    "\n",
    "del WeatherData['Time']\n",
    "del WeatherData['Fake']\n",
    "\n",
    "WeatherData['Direction'] = df_wd\n",
    "\n",
    "#form the dataframe and put it in csv\n",
    "    \n",
    "WeatherData.to_csv('weatherdata_pune.csv',index=False)\n",
    "WeatherData.shape"
   ]
  },
  {
   "cell_type": "code",
   "execution_count": 11,
   "metadata": {},
   "outputs": [
    {
     "data": {
      "text/plain": [
       "49"
      ]
     },
     "execution_count": 11,
     "metadata": {},
     "output_type": "execute_result"
    }
   ],
   "source": [
    "WeatherData.size"
   ]
  },
  {
   "cell_type": "code",
   "execution_count": 12,
   "metadata": {},
   "outputs": [
    {
     "data": {
      "text/html": [
       "<div>\n",
       "<style scoped>\n",
       "    .dataframe tbody tr th:only-of-type {\n",
       "        vertical-align: middle;\n",
       "    }\n",
       "\n",
       "    .dataframe tbody tr th {\n",
       "        vertical-align: top;\n",
       "    }\n",
       "\n",
       "    .dataframe thead th {\n",
       "        text-align: right;\n",
       "    }\n",
       "</style>\n",
       "<table border=\"1\" class=\"dataframe\">\n",
       "  <thead>\n",
       "    <tr style=\"text-align: right;\">\n",
       "      <th></th>\n",
       "      <th>Temp</th>\n",
       "      <th>Weather</th>\n",
       "      <th>Wind</th>\n",
       "      <th>Direction</th>\n",
       "      <th>Humidity</th>\n",
       "      <th>Barometer</th>\n",
       "      <th>Visibility</th>\n",
       "    </tr>\n",
       "  </thead>\n",
       "  <tbody>\n",
       "    <tr>\n",
       "      <th>0</th>\n",
       "      <td>19 °C</td>\n",
       "      <td>Clear.</td>\n",
       "      <td>No wind</td>\n",
       "      <td>Wind blowing from 0° North to South</td>\n",
       "      <td>90%</td>\n",
       "      <td>1013 mbar</td>\n",
       "      <td>4 km</td>\n",
       "    </tr>\n",
       "    <tr>\n",
       "      <th>1</th>\n",
       "      <td>21 °C</td>\n",
       "      <td>Passing clouds.</td>\n",
       "      <td>No wind</td>\n",
       "      <td>Wind blowing from 0° North to South</td>\n",
       "      <td>83%</td>\n",
       "      <td>1013 mbar</td>\n",
       "      <td>4 km</td>\n",
       "    </tr>\n",
       "    <tr>\n",
       "      <th>2</th>\n",
       "      <td>20 °C</td>\n",
       "      <td>Passing clouds.</td>\n",
       "      <td>No wind</td>\n",
       "      <td>Wind blowing from 0° North to South</td>\n",
       "      <td>87%</td>\n",
       "      <td>1014 mbar</td>\n",
       "      <td>4 km</td>\n",
       "    </tr>\n",
       "    <tr>\n",
       "      <th>3</th>\n",
       "      <td>25 °C</td>\n",
       "      <td>Passing clouds.</td>\n",
       "      <td>No wind</td>\n",
       "      <td>Wind blowing from 0° North to South</td>\n",
       "      <td>68%</td>\n",
       "      <td>1013 mbar</td>\n",
       "      <td>4 km</td>\n",
       "    </tr>\n",
       "    <tr>\n",
       "      <th>4</th>\n",
       "      <td>27 °C</td>\n",
       "      <td>Passing clouds.</td>\n",
       "      <td>6 km/h</td>\n",
       "      <td>Wind blowing from 90° East to West</td>\n",
       "      <td>58%</td>\n",
       "      <td>1010 mbar</td>\n",
       "      <td>10 km</td>\n",
       "    </tr>\n",
       "    <tr>\n",
       "      <th>5</th>\n",
       "      <td>29 °C</td>\n",
       "      <td>Partly sunny.</td>\n",
       "      <td>7 km/h</td>\n",
       "      <td>Wind blowing from 90° East to West</td>\n",
       "      <td>51%</td>\n",
       "      <td>1010 mbar</td>\n",
       "      <td>10 km</td>\n",
       "    </tr>\n",
       "    <tr>\n",
       "      <th>6</th>\n",
       "      <td>27 °C</td>\n",
       "      <td>Partly sunny.</td>\n",
       "      <td>6 km/h</td>\n",
       "      <td>Wind blowing from 110° East-southeast to West-...</td>\n",
       "      <td>61%</td>\n",
       "      <td>1014 mbar</td>\n",
       "      <td>10 km</td>\n",
       "    </tr>\n",
       "  </tbody>\n",
       "</table>\n",
       "</div>"
      ],
      "text/plain": [
       "    Temp          Weather     Wind  \\\n",
       "0  19 °C           Clear.  No wind   \n",
       "1  21 °C  Passing clouds.  No wind   \n",
       "2  20 °C  Passing clouds.  No wind   \n",
       "3  25 °C  Passing clouds.  No wind   \n",
       "4  27 °C  Passing clouds.   6 km/h   \n",
       "5  29 °C    Partly sunny.   7 km/h   \n",
       "6  27 °C    Partly sunny.   6 km/h   \n",
       "\n",
       "                                           Direction Humidity  Barometer  \\\n",
       "0                Wind blowing from 0° North to South      90%  1013 mbar   \n",
       "1                Wind blowing from 0° North to South      83%  1013 mbar   \n",
       "2                Wind blowing from 0° North to South      87%  1014 mbar   \n",
       "3                Wind blowing from 0° North to South      68%  1013 mbar   \n",
       "4                 Wind blowing from 90° East to West      58%  1010 mbar   \n",
       "5                 Wind blowing from 90° East to West      51%  1010 mbar   \n",
       "6  Wind blowing from 110° East-southeast to West-...      61%  1014 mbar   \n",
       "\n",
       "  Visibility  \n",
       "0       4 km  \n",
       "1       4 km  \n",
       "2       4 km  \n",
       "3       4 km  \n",
       "4      10 km  \n",
       "5      10 km  \n",
       "6      10 km  "
      ]
     },
     "execution_count": 12,
     "metadata": {},
     "output_type": "execute_result"
    }
   ],
   "source": [
    "WeatherData"
   ]
  },
  {
   "cell_type": "code",
   "execution_count": null,
   "metadata": {},
   "outputs": [],
   "source": []
  }
 ],
 "metadata": {
  "kernelspec": {
   "display_name": "Python 3",
   "language": "python",
   "name": "python3"
  },
  "language_info": {
   "codemirror_mode": {
    "name": "ipython",
    "version": 3
   },
   "file_extension": ".py",
   "mimetype": "text/x-python",
   "name": "python",
   "nbconvert_exporter": "python",
   "pygments_lexer": "ipython3",
   "version": "3.7.3"
  }
 },
 "nbformat": 4,
 "nbformat_minor": 2
}
